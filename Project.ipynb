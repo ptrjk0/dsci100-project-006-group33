{
 "cells": [
  {
   "cell_type": "markdown",
   "id": "803d1d67-2dbb-4263-b763-e6606afcf25e",
   "metadata": {},
   "source": [
    "# DSCI 100 Final Project\n",
    "## Group 33"
   ]
  },
  {
   "cell_type": "markdown",
   "id": "27469498-d871-4532-b2ac-1f0e1880b421",
   "metadata": {},
   "source": [
    "### Introduction"
   ]
  },
  {
   "cell_type": "markdown",
   "id": "51e56b3c-0474-4c60-adc9-f83ca183a6f6",
   "metadata": {},
   "source": [
    "### Methods & Results"
   ]
  },
  {
   "cell_type": "markdown",
   "id": "4f8eaf9f-9603-425b-a49a-be9fbd6fb157",
   "metadata": {},
   "source": [
    "### Discussion"
   ]
  },
  {
   "cell_type": "markdown",
   "id": "d1b2eaa6-78c5-4863-ab29-26b9a838bbf5",
   "metadata": {},
   "source": [
    "### References"
   ]
  },
  {
   "cell_type": "code",
   "execution_count": null,
   "id": "a770688b-13f1-4986-8380-94763ced0c9f",
   "metadata": {},
   "outputs": [],
   "source": []
  }
 ],
 "metadata": {
  "kernelspec": {
   "display_name": "R",
   "language": "R",
   "name": "ir"
  },
  "language_info": {
   "codemirror_mode": "r",
   "file_extension": ".r",
   "mimetype": "text/x-r-source",
   "name": "R",
   "pygments_lexer": "r",
   "version": "4.3.3"
  }
 },
 "nbformat": 4,
 "nbformat_minor": 5
}
