{
 "cells": [
  {
   "cell_type": "markdown",
   "id": "ec48a8f3",
   "metadata": {},
   "source": [
    "# DSCI 100 Final Project\n",
    "## Group 33"
   ]
  },
  {
   "cell_type": "markdown",
   "id": "4da5cffc",
   "metadata": {},
   "source": [
    "### Introduction"
   ]
  },
  {
   "cell_type": "markdown",
   "id": "a5ec1cd5",
   "metadata": {},
   "source": [
    "#### Background information:\n",
    "A Computer Science research team at UBC set up a Minecraft server, recording player's actions to explore how people play video games. We wanted to figure out which player characteristics or behaviours could be used to predict their subscription status to the game-related newsletter.\n",
    "\n",
    "#### Question:\n",
    "Can player’s hours played, age  and experience level predict whether a player is subscribed to the game-related newsletter?\n",
    "\n",
    "#### Data Set\n",
    "The data set used to answer this question was the Player’s Dataset (players.csv). The dataset contains 196 observations and 7 variables, including player's experience, age, gender, email, name, subscription status and hours played. However the variables of interest for answering this question are age, experience and hours played."
   ]
  },
  {
   "cell_type": "markdown",
   "id": "851e2a51",
   "metadata": {},
   "source": [
    "### Methods & Results"
   ]
  },
  {
   "cell_type": "code",
   "execution_count": 7,
   "id": "026d6787",
   "metadata": {},
   "outputs": [
    {
     "name": "stderr",
     "output_type": "stream",
     "text": [
      "\u001b[1mRows: \u001b[22m\u001b[34m196\u001b[39m \u001b[1mColumns: \u001b[22m\u001b[34m7\u001b[39m\n",
      "\u001b[36m──\u001b[39m \u001b[1mColumn specification\u001b[22m \u001b[36m────────────────────────────────────────────────────────\u001b[39m\n",
      "\u001b[1mDelimiter:\u001b[22m \",\"\n",
      "\u001b[31mchr\u001b[39m (4): experience, hashedEmail, name, gender\n",
      "\u001b[32mdbl\u001b[39m (2): played_hours, Age\n",
      "\u001b[33mlgl\u001b[39m (1): subscribe\n",
      "\n",
      "\u001b[36mℹ\u001b[39m Use `spec()` to retrieve the full column specification for this data.\n",
      "\u001b[36mℹ\u001b[39m Specify the column types or set `show_col_types = FALSE` to quiet this message.\n"
     ]
    }
   ],
   "source": [
    "library(tidyverse)\n",
    "library(repr)\n",
    "library(tidymodels) # Load the packages\n",
    "player_data<-read_csv(\"data/players.csv\") # loads data"
   ]
  },
  {
   "cell_type": "code",
   "execution_count": 8,
   "id": "013c5002",
   "metadata": {},
   "outputs": [],
   "source": [
    "player_data<- select(player_data,subscribe,played_hours,Age,experience) # select needed variable\n",
    "player_data$Age[is.na(player_data$Age)] <- median(player_data$Age, na.rm = TRUE) # add median for NA age data\n"
   ]
  },
  {
   "cell_type": "markdown",
   "id": "ef246b52",
   "metadata": {},
   "source": [
    "#### performs a summary of the data set that is relevant for exploratory data analysis related to the planned analysis "
   ]
  },
  {
   "cell_type": "code",
   "execution_count": 9,
   "id": "c71e51dc",
   "metadata": {},
   "outputs": [
    {
     "data": {
      "text/html": [
       "<table class=\"dataframe\">\n",
       "<caption>A tibble: 5 × 4</caption>\n",
       "<thead>\n",
       "\t<tr><th scope=col>subscribe</th><th scope=col>played_hours</th><th scope=col>Age</th><th scope=col>experience</th></tr>\n",
       "\t<tr><th scope=col>&lt;lgl&gt;</th><th scope=col>&lt;dbl&gt;</th><th scope=col>&lt;dbl&gt;</th><th scope=col>&lt;chr&gt;</th></tr>\n",
       "</thead>\n",
       "<tbody>\n",
       "\t<tr><td> TRUE</td><td>30.3</td><td> 9</td><td>Pro    </td></tr>\n",
       "\t<tr><td> TRUE</td><td> 3.8</td><td>17</td><td>Veteran</td></tr>\n",
       "\t<tr><td>FALSE</td><td> 0.0</td><td>17</td><td>Veteran</td></tr>\n",
       "\t<tr><td> TRUE</td><td> 0.7</td><td>21</td><td>Amateur</td></tr>\n",
       "\t<tr><td> TRUE</td><td> 0.1</td><td>21</td><td>Regular</td></tr>\n",
       "</tbody>\n",
       "</table>\n"
      ],
      "text/latex": [
       "A tibble: 5 × 4\n",
       "\\begin{tabular}{llll}\n",
       " subscribe & played\\_hours & Age & experience\\\\\n",
       " <lgl> & <dbl> & <dbl> & <chr>\\\\\n",
       "\\hline\n",
       "\t  TRUE & 30.3 &  9 & Pro    \\\\\n",
       "\t  TRUE &  3.8 & 17 & Veteran\\\\\n",
       "\t FALSE &  0.0 & 17 & Veteran\\\\\n",
       "\t  TRUE &  0.7 & 21 & Amateur\\\\\n",
       "\t  TRUE &  0.1 & 21 & Regular\\\\\n",
       "\\end{tabular}\n"
      ],
      "text/markdown": [
       "\n",
       "A tibble: 5 × 4\n",
       "\n",
       "| subscribe &lt;lgl&gt; | played_hours &lt;dbl&gt; | Age &lt;dbl&gt; | experience &lt;chr&gt; |\n",
       "|---|---|---|---|\n",
       "|  TRUE | 30.3 |  9 | Pro     |\n",
       "|  TRUE |  3.8 | 17 | Veteran |\n",
       "| FALSE |  0.0 | 17 | Veteran |\n",
       "|  TRUE |  0.7 | 21 | Amateur |\n",
       "|  TRUE |  0.1 | 21 | Regular |\n",
       "\n"
      ],
      "text/plain": [
       "  subscribe played_hours Age experience\n",
       "1  TRUE     30.3          9  Pro       \n",
       "2  TRUE      3.8         17  Veteran   \n",
       "3 FALSE      0.0         17  Veteran   \n",
       "4  TRUE      0.7         21  Amateur   \n",
       "5  TRUE      0.1         21  Regular   "
      ]
     },
     "metadata": {},
     "output_type": "display_data"
    },
    {
     "data": {
      "text/plain": [
       " subscribe        played_hours          Age         experience       \n",
       " Mode :logical   Min.   :  0.000   Min.   : 8.00   Length:196        \n",
       " FALSE:52        1st Qu.:  0.000   1st Qu.:17.00   Class :character  \n",
       " TRUE :144       Median :  0.100   Median :19.00   Mode  :character  \n",
       "                 Mean   :  5.846   Mean   :20.51                     \n",
       "                 3rd Qu.:  0.600   3rd Qu.:22.00                     \n",
       "                 Max.   :223.100   Max.   :50.00                     "
      ]
     },
     "metadata": {},
     "output_type": "display_data"
    }
   ],
   "source": [
    "head(player_data,5) \n",
    "summary(player_data) #Generate summary"
   ]
  },
  {
   "cell_type": "markdown",
   "id": "53267dfb",
   "metadata": {},
   "source": [
    "**Table: Summary of numeric varibles**\n",
    "| Variable          | Class      | Min     | 1st Quartile | Median | Mean  | 3rd Quartile | Max    | NA's |\n",
    "|------------------|-----------|--------|--------|--------|--------|--------|--------|------|\n",
    "| **played_hours** | double    | 0.000  | 0.000  | 0.100  | 5.846  | 0.600  | 223.100 | 0    |\n",
    "| **Age**        | double     | 8.00   | 17.00  | 19.00  | 20.52  | 22.00  | 50.00  | 2    |"
   ]
  },
  {
   "cell_type": "markdown",
   "id": "c0d9079e",
   "metadata": {},
   "source": [
    "### Discussion"
   ]
  },
  {
   "cell_type": "markdown",
   "id": "2f7e19df",
   "metadata": {},
   "source": [
    "### References"
   ]
  },
  {
   "cell_type": "code",
   "execution_count": null,
   "id": "e802f125",
   "metadata": {},
   "outputs": [],
   "source": []
  },
  {
   "cell_type": "code",
   "execution_count": null,
   "id": "fef1b059",
   "metadata": {},
   "outputs": [],
   "source": []
  }
 ],
 "metadata": {
  "kernelspec": {
   "display_name": "R",
   "language": "R",
   "name": "ir"
  },
  "language_info": {
   "codemirror_mode": "r",
   "file_extension": ".r",
   "mimetype": "text/x-r-source",
   "name": "R",
   "pygments_lexer": "r",
   "version": "4.3.3"
  }
 },
 "nbformat": 4,
 "nbformat_minor": 5
}
